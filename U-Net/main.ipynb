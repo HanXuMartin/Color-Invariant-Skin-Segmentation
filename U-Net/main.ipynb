{
 "cells": [
  {
   "cell_type": "code",
   "execution_count": 1,
   "metadata": {
    "scrolled": false
   },
   "outputs": [],
   "source": [
    "from model import *\n",
    "from data import *\n",
    "import os\n",
    "import keras\n",
    "import matplotlib.pyplot as plt\n",
    "import numpy as np\n",
    "import tensorflow as tf\n",
    "import shutil\n",
    "import time\n",
    "# import winsound"
   ]
  },
  {
   "cell_type": "code",
   "execution_count": 2,
   "metadata": {},
   "outputs": [],
   "source": [
    "time_start=time.time()\n",
    "# tf.compat.v1.disable_eager_execution()\n",
    "os.environ[\"CUDA_VISIBLE_DEVICES\"] = \"0\"\n"
   ]
  },
  {
   "cell_type": "code",
   "execution_count": 3,
   "metadata": {},
   "outputs": [],
   "source": [
    "data_gen_args = dict(rotation_range=0.2,\n",
    "                    width_shift_range=0.05,\n",
    "                    height_shift_range=0.05,\n",
    "                    shear_range=0.05,\n",
    "                    zoom_range=0.05,\n",
    "                    horizontal_flip=True,\n",
    "                    fill_mode='nearest')"
   ]
  },
  {
   "cell_type": "code",
   "execution_count": 4,
   "metadata": {
    "scrolled": true
   },
   "outputs": [
    {
     "name": "stdout",
     "output_type": "stream",
     "text": [
      "24000 6000\n"
     ]
    }
   ],
   "source": [
    "# work_list = 'H30S0.6V0.2'\n",
    "batch_size = 8\n",
    "train_size = len(os.listdir('G:/UNet2/data/ECU/train/'+'aug_image'))\n",
    "val_size = len(os.listdir('G:/UNet2/data/ECU/valid/'+'aug_image'))\n",
    "print(train_size,val_size)\n",
    "trainGene = trainGenerator(batch_size,'data/ECU/train','aug_image','aug_label',data_gen_args,save_to_dir = None)\n",
    "validGene = validGenerator(batch_size,'data/ECU/valid','aug_image','aug_label',save_to_dir = None)\n",
    "model = unet()\n",
    "# model.compile(optimizer = Adam(lr = 1e-4), loss = 'binary_crossentropy', metrics = ['accuracy'])\n",
    "model_checkpoint = ModelCheckpoint('after/unet_ECU-{epoch:02d}.hdf5', monitor='loss',verbose=1)\n",
    "epochs = 20\n"
   ]
  },
  {
   "cell_type": "code",
   "execution_count": 5,
   "metadata": {
    "scrolled": true
   },
   "outputs": [
    {
     "name": "stdout",
     "output_type": "stream",
     "text": [
      "WARNING:tensorflow:From <ipython-input-5-2c55f09d1895>:1: Model.fit_generator (from tensorflow.python.keras.engine.training) is deprecated and will be removed in a future version.\n",
      "Instructions for updating:\n",
      "Please use Model.fit, which supports generators.\n",
      "Found 24000 images belonging to 1 classes.\n",
      "Found 24000 images belonging to 1 classes.\n",
      "Epoch 1/20\n",
      "WARNING:tensorflow:Callbacks method `on_train_batch_end` is slow compared to the batch time (batch time: 0.0947s vs `on_train_batch_end` time: 0.2005s). Check your callbacks.\n",
      "Found 6000 images belonging to 1 classes.\n",
      "Found 6000 images belonging to 1 classes.\n",
      "\n",
      "Epoch 00001: saving model to after\\unet_ECU-01.hdf5\n",
      "3000/3000 - 1572s - loss: 0.2132 - accuracy: 0.9147 - val_loss: 0.1659 - val_accuracy: 0.9338\n",
      "Epoch 2/20\n",
      "\n",
      "Epoch 00002: saving model to after\\unet_ECU-02.hdf5\n",
      "3000/3000 - 1007s - loss: 0.1170 - accuracy: 0.9545 - val_loss: 0.1351 - val_accuracy: 0.9482\n",
      "Epoch 3/20\n",
      "\n",
      "Epoch 00003: saving model to after\\unet_ECU-03.hdf5\n",
      "3000/3000 - 1008s - loss: 0.0871 - accuracy: 0.9664 - val_loss: 0.1307 - val_accuracy: 0.9537\n",
      "Epoch 4/20\n",
      "\n",
      "Epoch 00004: saving model to after\\unet_ECU-04.hdf5\n",
      "3000/3000 - 1006s - loss: 0.0697 - accuracy: 0.9731 - val_loss: 0.1189 - val_accuracy: 0.9572\n",
      "Epoch 5/20\n",
      "\n",
      "Epoch 00005: saving model to after\\unet_ECU-05.hdf5\n",
      "3000/3000 - 1146s - loss: 0.0576 - accuracy: 0.9777 - val_loss: 0.1325 - val_accuracy: 0.9537\n",
      "Epoch 6/20\n",
      "\n",
      "Epoch 00006: saving model to after\\unet_ECU-06.hdf5\n",
      "3000/3000 - 1007s - loss: 0.0488 - accuracy: 0.9809 - val_loss: 0.1231 - val_accuracy: 0.9598\n",
      "Epoch 7/20\n",
      "\n",
      "Epoch 00007: saving model to after\\unet_ECU-07.hdf5\n",
      "3000/3000 - 1011s - loss: 0.0441 - accuracy: 0.9828 - val_loss: 0.1453 - val_accuracy: 0.9584\n",
      "Epoch 8/20\n",
      "\n",
      "Epoch 00008: saving model to after\\unet_ECU-08.hdf5\n",
      "3000/3000 - 1013s - loss: 0.0377 - accuracy: 0.9851 - val_loss: 0.1683 - val_accuracy: 0.9579\n",
      "Epoch 9/20\n",
      "\n",
      "Epoch 00009: saving model to after\\unet_ECU-09.hdf5\n",
      "3000/3000 - 1088s - loss: 0.0363 - accuracy: 0.9856 - val_loss: 0.1474 - val_accuracy: 0.9599\n",
      "Epoch 10/20\n",
      "\n",
      "Epoch 00010: saving model to after\\unet_ECU-10.hdf5\n",
      "3000/3000 - 1007s - loss: 0.0320 - accuracy: 0.9872 - val_loss: 0.1685 - val_accuracy: 0.9592\n",
      "Epoch 11/20\n",
      "\n",
      "Epoch 00011: saving model to after\\unet_ECU-11.hdf5\n",
      "3000/3000 - 1007s - loss: 0.0310 - accuracy: 0.9876 - val_loss: 0.1412 - val_accuracy: 0.9582\n",
      "Epoch 12/20\n",
      "\n",
      "Epoch 00012: saving model to after\\unet_ECU-12.hdf5\n",
      "3000/3000 - 1006s - loss: 0.0289 - accuracy: 0.9884 - val_loss: 0.1694 - val_accuracy: 0.9596\n",
      "Epoch 13/20\n",
      "\n",
      "Epoch 00013: saving model to after\\unet_ECU-13.hdf5\n",
      "3000/3000 - 1006s - loss: 0.0265 - accuracy: 0.9893 - val_loss: 0.1967 - val_accuracy: 0.9603\n",
      "Epoch 14/20\n",
      "\n",
      "Epoch 00014: saving model to after\\unet_ECU-14.hdf5\n",
      "3000/3000 - 1006s - loss: 0.0268 - accuracy: 0.9893 - val_loss: 0.1809 - val_accuracy: 0.9601\n",
      "Epoch 15/20\n",
      "\n",
      "Epoch 00015: saving model to after\\unet_ECU-15.hdf5\n",
      "3000/3000 - 1006s - loss: 0.0252 - accuracy: 0.9898 - val_loss: 0.1494 - val_accuracy: 0.9573\n",
      "Epoch 16/20\n",
      "\n",
      "Epoch 00016: saving model to after\\unet_ECU-16.hdf5\n",
      "3000/3000 - 1090s - loss: 0.0239 - accuracy: 0.9903 - val_loss: 0.1937 - val_accuracy: 0.9590\n",
      "Epoch 17/20\n",
      "\n",
      "Epoch 00017: saving model to after\\unet_ECU-17.hdf5\n",
      "3000/3000 - 1112s - loss: 0.0230 - accuracy: 0.9906 - val_loss: 0.2171 - val_accuracy: 0.9599\n",
      "Epoch 18/20\n",
      "\n",
      "Epoch 00018: saving model to after\\unet_ECU-18.hdf5\n",
      "3000/3000 - 1045s - loss: 0.0225 - accuracy: 0.9909 - val_loss: 0.2032 - val_accuracy: 0.9601\n",
      "Epoch 19/20\n",
      "\n",
      "Epoch 00019: saving model to after\\unet_ECU-19.hdf5\n",
      "3000/3000 - 1083s - loss: 0.0209 - accuracy: 0.9914 - val_loss: 0.1724 - val_accuracy: 0.9586\n",
      "Epoch 20/20\n",
      "\n",
      "Epoch 00020: saving model to after\\unet_ECU-20.hdf5\n",
      "3000/3000 - 1123s - loss: 0.0213 - accuracy: 0.9913 - val_loss: 0.2049 - val_accuracy: 0.9600\n"
     ]
    }
   ],
   "source": [
    "history = model.fit_generator(\n",
    "    trainGene,\n",
    "    validation_data=validGene,\n",
    "    validation_steps=val_size/batch_size, #tatalvalidationset/batchsize\n",
    "    steps_per_epoch=train_size/batch_size, #totaltrainset/batchsize\n",
    "    epochs=epochs,\n",
    "    verbose=2, \n",
    "    shuffle=True,\n",
    "    callbacks=[model_checkpoint])\n"
   ]
  },
  {
   "cell_type": "code",
   "execution_count": 6,
   "metadata": {},
   "outputs": [
    {
     "data": {
      "image/png": "[encoded data removed]",
      "text/plain": [
       "<Figure size 432x288 with 1 Axes>"
      ]
     },
     "metadata": {
      "needs_background": "light"
     },
     "output_type": "display_data"
    }
   ],
   "source": [
    "imagename = 'Loss'\n",
    "    # print(a)\n",
    "y1 = history.history['loss']\n",
    "y2 = history.history['val_loss']\n",
    "    # print(y)\n",
    "x = np.array(range(epochs))\n",
    "    # print(x.shape)\n",
    "plt.plot(x,y1, label = 'trainingloss')\n",
    "plt.plot(x,y2, label = 'validloss')\n",
    "plt.xlabel('Epoch')\n",
    "plt.ylabel('Loss')\n",
    "plt.legend()\n",
    "plt.savefig('Loss'+'.png')\n",
    "plt.show()"
   ]
  },
  {
   "cell_type": "code",
   "execution_count": 7,
   "metadata": {
    "scrolled": false
   },
   "outputs": [
    {
     "data": {
      "image/png": "[encoded data removed]",
      "text/plain": [
       "<Figure size 432x288 with 1 Axes>"
      ]
     },
     "metadata": {
      "needs_background": "light"
     },
     "output_type": "display_data"
    }
   ],
   "source": [
    "imagename = 'Loss'\n",
    "    # print(a)\n",
    "y1 = history.history['accuracy']\n",
    "y2 = history.history['val_accuracy']\n",
    "    # print(y)\n",
    "x = np.array(range(epochs))\n",
    "    # print(x.shape)\n",
    "plt.plot(x,y1, label = 'trainingaccuracy')\n",
    "plt.plot(x,y2, label = 'validaccuracy')\n",
    "plt.xlabel('Epoch')\n",
    "plt.ylabel('Acc')\n",
    "plt.legend()\n",
    "plt.savefig('Acc'+'.png')\n",
    "plt.show()"
   ]
  },
  {
   "cell_type": "code",
   "execution_count": 4,
   "metadata": {
    "scrolled": true
   },
   "outputs": [
    {
     "name": "stderr",
     "output_type": "stream",
     "text": [
      "\r",
      "  0%|                                                                                            | 0/4 [00:00<?, ?it/s]"
     ]
    },
    {
     "name": "stdout",
     "output_type": "stream",
     "text": [
      "testGenerator Working\n"
     ]
    },
    {
     "name": "stderr",
     "output_type": "stream",
     "text": [
      "100%|████████████████████████████████████████████████████████████████████████████████████| 4/4 [00:00<00:00,  7.19it/s]\n",
      "  0%|                                                                                            | 0/4 [00:00<?, ?it/s]"
     ]
    },
    {
     "name": "stdout",
     "output_type": "stream",
     "text": [
      "Saving Begin\n"
     ]
    },
    {
     "name": "stderr",
     "output_type": "stream",
     "text": [
      "100%|████████████████████████████████████████████████████████████████████████████████████| 4/4 [00:00<00:00, 13.31it/s]\n",
      "100%|████████████████████████████████████████████████████████████████████████████████████| 4/4 [00:00<00:00, 52.21it/s]"
     ]
    },
    {
     "name": "stdout",
     "output_type": "stream",
     "text": [
      "Binary-Size converter working\n"
     ]
    },
    {
     "name": "stderr",
     "output_type": "stream",
     "text": [
      "\n"
     ]
    }
   ],
   "source": [
    "test_file = 'G:/Han/image'\n",
    "model = keras.models.load_model('G:/UNet2/211023/after/unet_ECU-03.hdf5')\n",
    "sigmoid_file = 'G:/UNet2/Han'\n",
    "test_names = os.listdir(test_file)\n",
    "test_size = len(test_names)\n",
    "# print(test_size)\n",
    "# work_list = 'Hue/change/60'\n",
    "testGene = testGenerator(test_file, test_size)\n",
    "# results = model.predict(testGene,batch_size=1,verbose=1)\n",
    "results = model.predict(\n",
    "    testGene, batch_size=None, verbose=0, steps=test_size, callbacks=None, max_queue_size=10,\n",
    "    workers=1, use_multiprocessing=False)\n",
    "\n",
    "if not os.path.exists(sigmoid_file):\n",
    "    os.makedirs(sigmoid_file)\n",
    "    \n",
    "saveResult(sigmoid_file,test_names,results)\n",
    "\n",
    "prediction_path = sigmoid_file\n",
    "binary_path = prediction_path\n",
    "\n",
    "image_names = os.listdir(test_file)\n",
    "\n",
    "if not os.path.exists(binary_path):\n",
    "    os.makedirs(binary_path)\n",
    "print('Binary-Size converter working')\n",
    "for image_name in tqdm(image_names):\n",
    "\n",
    "    image = cv2.imread(os.path.join(test_file,image_name))\n",
    "    prediction = cv2.imread(os.path.join(prediction_path,image_name),0)\n",
    "    # print(image_name, image.shape)\n",
    "    size = (image.shape[1],image.shape[0])\n",
    "    prediction = cv2.resize(prediction,size)\n",
    "    ret, prediction = cv2.threshold(prediction, 127, 255, cv2.THRESH_BINARY)\n",
    "    # print(prediction)\n",
    "    # plt.imshow(prediction)\n",
    "    # plt.show()\n",
    "    cv2.imwrite(os.path.join(binary_path,image_name), prediction)"
   ]
  },
  {
   "cell_type": "code",
   "execution_count": null,
   "metadata": {},
   "outputs": [],
   "source": []
  }
 ],
 "metadata": {
  "kernelspec": {
   "display_name": "Python 3",
   "language": "python",
   "name": "python3"
  },
  "language_info": {
   "codemirror_mode": {
    "name": "ipython",
    "version": 3
   },
   "file_extension": ".py",
   "mimetype": "text/x-python",
   "name": "python",
   "nbconvert_exporter": "python",
   "pygments_lexer": "ipython3",
   "version": "3.8.5"
  }
 },
 "nbformat": 4,
 "nbformat_minor": 4
}
